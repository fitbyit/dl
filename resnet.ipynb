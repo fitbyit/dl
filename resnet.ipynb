{
  "nbformat": 4,
  "nbformat_minor": 0,
  "metadata": {
    "colab": {
      "provenance": []
    },
    "kernelspec": {
      "name": "python3",
      "display_name": "Python 3"
    },
    "language_info": {
      "name": "python"
    }
  },
  "cells": [
    {
      "cell_type": "markdown",
      "source": [
        "## **Inception**"
      ],
      "metadata": {
        "id": "cKrDVTX1s6hl"
      }
    },
    {
      "cell_type": "code",
      "execution_count": null,
      "metadata": {
        "id": "iShsjRzr-2oD"
      },
      "outputs": [],
      "source": [
        "import tensorflow as tf\n",
        "from tensorflow.keras.applications import InceptionV3\n",
        "from tensorflow.keras.applications.inception_v3 import preprocess_input, decode_predictions\n",
        "from tensorflow.keras.preprocessing import image\n",
        "import numpy as np\n",
        "\n",
        "# Load the pre-trained InceptionV3 model\n",
        "model = InceptionV3(weights='imagenet')\n",
        "\n",
        "# Load and preprocess the image\n",
        "img_path = 'download.jpeg'  # Replace with your image path\n",
        "img = image.load_img(img_path, target_size=(299, 299))\n",
        "img_array = image.img_to_array(img)\n",
        "img_array = np.expand_dims(img_array, axis=0)\n",
        "img_array = preprocess_input(img_array)\n",
        "\n",
        "# Make predictions\n",
        "predictions = model.predict(img_array)\n",
        "decoded_predictions = decode_predictions(predictions, top=3)[0]\n",
        "print(decoded_predictions[0][1])"
      ]
    },
    {
      "cell_type": "markdown",
      "source": [
        "ResNet"
      ],
      "metadata": {
        "id": "Y892G6I0s4uH"
      }
    },
    {
      "cell_type": "code",
      "source": [
        "import torch\n",
        "from torchvision import models, transforms\n",
        "from PIL import Image\n",
        "import json\n",
        "\n",
        "# Load the ImageNet class labels\n",
        "!wget https://raw.githubusercontent.com/fitbyit/InceptionImage/main/imagenet-simple-labels.json\n",
        "with open('imagenet-simple-labels.json', 'r') as f:\n",
        "    labels = json.load(f)\n",
        "\n",
        "# Load a pre-trained ResNet model\n",
        "model = models.resnet50(pretrained=True)\n",
        "model.eval()  # Set the model to evaluation mode\n",
        "\n",
        "# Define the image transformations\n",
        "preprocess = transforms.Compose([ transforms.Resize(256),\n",
        "    transforms.CenterCrop(224),\n",
        "    transforms.ToTensor(),\n",
        "    transforms.Normalize(\n",
        "        mean=[0.485, 0.456, 0.406], std=[0.229, 0.224, 0.225]),\n",
        "])\n",
        "\n",
        "# Load and preprocess an image\n",
        "def process_image(image_path):\n",
        "    image = Image.open(image_path).convert('RGB')\n",
        "    image = preprocess(image)\n",
        "    return image.unsqueeze(0)  # Add a batch dimension\n",
        "\n",
        "# Predict the class of the image\n",
        "def predict(image_path):\n",
        "    image = process_image(image_path)\n",
        "    with torch.no_grad():\n",
        "        outputs = model(image)\n",
        "    _, predicted_class = torch.max(outputs, 1)\n",
        "    return predicted_class.item()\n",
        "\n",
        "image_path = 'download.jpeg'  # Replace with your image path\n",
        "class_label = labels[predict(image_path)]\n",
        "print(f'Predicted class label: {class_label}')"
      ],
      "metadata": {
        "id": "dncDWq-1rEt-"
      },
      "execution_count": null,
      "outputs": []
    },
    {
      "cell_type": "code",
      "source": [
        "import tensorflow as tf\n",
        "from tensorflow.keras import layers, models\n",
        "from tensorflow.keras.preprocessing import image\n",
        "import numpy as np\n",
        "\n",
        "# Define the AlexNet architecture\n",
        "def create_alexnet(input_shape=(227, 227, 3), num_classes=1000):\n",
        "    model = models.Sequential()\n",
        "    model.add(layers.Conv2D(96, (11, 11), strides=(4, 4), activation='relu', input_shape=input_shape))\n",
        "    model.add(layers.MaxPooling2D(pool_size=(3, 3), strides=(2, 2)))\n",
        "    model.add(layers.Conv2D(256, (5, 5), activation='relu', padding='same'))\n",
        "    model.add(layers.MaxPooling2D(pool_size=(3, 3), strides=(2, 2)))\n",
        "    model.add(layers.Conv2D(384, (3, 3), activation='relu', padding='same'))\n",
        "    model.add(layers.Conv2D(384, (3, 3), activation='relu', padding='same'))\n",
        "    model.add(layers.Conv2D(256, (3, 3), activation='relu', padding='same'))\n",
        "    model.add(layers.MaxPooling2D(pool_size=(3, 3), strides=(2, 2)))\n",
        "    model.add(layers.Flatten())\n",
        "    model.add(layers.Dense(4096, activation='relu'))\n",
        "    model.add(layers.Dropout(0.5))\n",
        "    model.add(layers.Dense(4096, activation='relu'))\n",
        "    model.add(layers.Dropout(0.5))\n",
        "    model.add(layers.Dense(num_classes, activation='softmax'))\n",
        "\n",
        "    return model\n",
        "\n",
        "# Create the AlexNet model\n",
        "model = create_alexnet()\n",
        "\n",
        "# Load pre-trained weights (if available)\n",
        "# You can load weights pre-trained on ImageNet if you have them.\n",
        "# model.load_weights('path_to_alexnet_weights.h5')\n",
        "\n",
        "# Load and preprocess the image\n",
        "img_path = 'download.jpeg'  # Replace with your image path\n",
        "img = image.load_img(img_path, target_size=(227, 227))  # AlexNet uses 227x227 input size\n",
        "img_array = image.img_to_array(img)\n",
        "img_array = np.expand_dims(img_array, axis=0)\n",
        "img_array = img_array / 255.0  # Normalize the image to [0, 1]\n",
        "\n",
        "# Make predictions\n",
        "predictions = model.predict(img_array)\n",
        "\n",
        "# Decode predictions\n",
        "# Here we assume the model is trained and outputs class indices for ImageNet.\n",
        "# You need to load the class names corresponding to your dataset.\n",
        "# For demonstration, let's print the predicted class index.\n",
        "predicted_class_index = np.argmax(predictions)\n",
        "print(f'Predicted class index: {predicted_class_index}')\n",
        "class_label = labels[predicted_class_index]\n",
        "print(f'Predicted class label: {class_label}')\n"
      ],
      "metadata": {
        "colab": {
          "base_uri": "https://localhost:8080/"
        },
        "id": "8BX5upDTILko",
        "outputId": "b47e1898-c0b7-4535-d63e-3e506bb3b2b8"
      },
      "execution_count": 7,
      "outputs": [
        {
          "output_type": "stream",
          "name": "stderr",
          "text": [
            "WARNING:tensorflow:6 out of the last 6 calls to <function TensorFlowTrainer.make_predict_function.<locals>.one_step_on_data_distributed at 0x7f0331ed83a0> triggered tf.function retracing. Tracing is expensive and the excessive number of tracings could be due to (1) creating @tf.function repeatedly in a loop, (2) passing tensors with different shapes, (3) passing Python objects instead of tensors. For (1), please define your @tf.function outside of the loop. For (2), @tf.function has reduce_retracing=True option that can avoid unnecessary retracing. For (3), please refer to https://www.tensorflow.org/guide/function#controlling_retracing and https://www.tensorflow.org/api_docs/python/tf/function for  more details.\n"
          ]
        },
        {
          "output_type": "stream",
          "name": "stdout",
          "text": [
            "\u001b[1m1/1\u001b[0m \u001b[32m━━━━━━━━━━━━━━━━━━━━\u001b[0m\u001b[37m\u001b[0m \u001b[1m0s\u001b[0m 209ms/step\n",
            "Predicted class index: 29\n",
            "Predicted class label: axolotl\n"
          ]
        }
      ]
    }
  ]
}